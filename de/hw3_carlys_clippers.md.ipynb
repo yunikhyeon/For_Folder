{
 "cells": [
  {
   "cell_type": "code",
   "execution_count": 1,
   "id": "4751afcf-5049-4cd7-bbab-9954a1495a9e",
   "metadata": {
    "tags": []
   },
   "outputs": [],
   "source": [
    "hairstyles = [\"bouffant\", \"pixie\", \"dreadlocks\", \"crew\", \"bowl\", \"bob\", \"mohawk\", \"flattop\"]"
   ]
  },
  {
   "cell_type": "code",
   "execution_count": 2,
   "id": "93ec24bf-1775-4845-861b-eab51948a3a8",
   "metadata": {
    "tags": []
   },
   "outputs": [],
   "source": [
    "prices = [30, 25, 40, 20, 20, 35, 50, 35]"
   ]
  },
  {
   "cell_type": "code",
   "execution_count": 3,
   "id": "8a2ce5e9-14f3-4666-8dda-6b810be12aa3",
   "metadata": {
    "tags": []
   },
   "outputs": [],
   "source": [
    "last_week = [2, 3, 5, 8, 4, 4, 6, 2]"
   ]
  },
  {
   "cell_type": "code",
   "execution_count": 4,
   "id": "4c623a33-f06b-4b2b-8b59-2704bfdbf640",
   "metadata": {
    "tags": []
   },
   "outputs": [],
   "source": [
    "total_price=0"
   ]
  },
  {
   "cell_type": "code",
   "execution_count": 5,
   "id": "863e2160-3ebe-4b2d-be4c-e0dffe08a4ac",
   "metadata": {
    "tags": []
   },
   "outputs": [],
   "source": [
    "for i in prices:\n",
    "    total_price += i"
   ]
  },
  {
   "cell_type": "code",
   "execution_count": 6,
   "id": "da2d631b-d9cb-40ce-976c-12809f8a3087",
   "metadata": {
    "tags": []
   },
   "outputs": [],
   "source": [
    "average_price=total_price / len(prices)"
   ]
  },
  {
   "cell_type": "code",
   "execution_count": 7,
   "id": "a82f51db-e27a-40bc-b766-2b150f6b4b73",
   "metadata": {
    "tags": []
   },
   "outputs": [
    {
     "name": "stdout",
     "output_type": "stream",
     "text": [
      "Average price is 31.875\n"
     ]
    }
   ],
   "source": [
    "print(\"Average price is\", average_price)"
   ]
  },
  {
   "cell_type": "code",
   "execution_count": 15,
   "id": "81ed8a5b-bae6-47d2-8eda-6d45cb9b5d82",
   "metadata": {
    "tags": []
   },
   "outputs": [],
   "source": [
    "new_prices=[]\n",
    "for i in prices:\n",
    "    k = i-5\n",
    "    new_prices.append(k)\n",
    "    "
   ]
  },
  {
   "cell_type": "code",
   "execution_count": 16,
   "id": "60c3c896-f1fb-40af-81df-2d64b600775a",
   "metadata": {
    "tags": []
   },
   "outputs": [
    {
     "name": "stdout",
     "output_type": "stream",
     "text": [
      "[25, 20, 35, 15, 15, 30, 45, 30]\n"
     ]
    }
   ],
   "source": [
    "print(new_prices)"
   ]
  },
  {
   "cell_type": "code",
   "execution_count": 17,
   "id": "e30645d2-e7c2-43fc-816e-1990a3100515",
   "metadata": {
    "tags": []
   },
   "outputs": [],
   "source": [
    "total_revenue=0"
   ]
  },
  {
   "cell_type": "code",
   "execution_count": 18,
   "id": "fae21b47-8b52-44ae-b78d-fe7aaf88462a",
   "metadata": {
    "tags": []
   },
   "outputs": [],
   "source": [
    "for i in range(len(hairstyles)):\n",
    "    total_revenue += prices[i] * last_week[i]"
   ]
  },
  {
   "cell_type": "code",
   "execution_count": 19,
   "id": "0dbaeedb-5f3c-4b1f-838e-616a2e7b95c4",
   "metadata": {
    "tags": []
   },
   "outputs": [
    {
     "name": "stdout",
     "output_type": "stream",
     "text": [
      "1085\n"
     ]
    }
   ],
   "source": [
    "print(total_revenue)"
   ]
  },
  {
   "cell_type": "code",
   "execution_count": 20,
   "id": "654077cc-6af6-4949-8064-158e33a5d605",
   "metadata": {
    "tags": []
   },
   "outputs": [],
   "source": [
    "average_daily_revenue = total_revenue / 7"
   ]
  },
  {
   "cell_type": "code",
   "execution_count": 21,
   "id": "0a81f033-dd2b-4a17-963c-79d89cc651ff",
   "metadata": {
    "tags": []
   },
   "outputs": [
    {
     "name": "stdout",
     "output_type": "stream",
     "text": [
      "Average daily revenue is 155.0\n"
     ]
    }
   ],
   "source": [
    "print(\"Average daily revenue is\", average_daily_revenue)"
   ]
  },
  {
   "cell_type": "code",
   "execution_count": 30,
   "id": "dcba7055-94f1-439e-8639-50b0876b47b2",
   "metadata": {
    "tags": []
   },
   "outputs": [],
   "source": [
    "cuts_under_30=[]\n",
    "for i in range(len(prices)):\n",
    "    if prices[i] <= 30:\n",
    "        cuts_under_30 += [hairstyles[i]]"
   ]
  },
  {
   "cell_type": "code",
   "execution_count": 31,
   "id": "75f69b13-6981-4cf8-9ea8-9fad376b4739",
   "metadata": {
    "tags": []
   },
   "outputs": [
    {
     "name": "stdout",
     "output_type": "stream",
     "text": [
      "['bouffant', 'pixie', 'crew', 'bowl']\n"
     ]
    }
   ],
   "source": [
    "print(cuts_under_30)"
   ]
  },
  {
   "cell_type": "code",
   "execution_count": null,
   "id": "4bfad105-3825-4589-b96e-a3ec850c3d05",
   "metadata": {},
   "outputs": [],
   "source": []
  }
 ],
 "metadata": {
  "kernelspec": {
   "display_name": "Python 3 (ipykernel)",
   "language": "python",
   "name": "python3"
  },
  "language_info": {
   "codemirror_mode": {
    "name": "ipython",
    "version": 3
   },
   "file_extension": ".py",
   "mimetype": "text/x-python",
   "name": "python",
   "nbconvert_exporter": "python",
   "pygments_lexer": "ipython3",
   "version": "3.11.4"
  }
 },
 "nbformat": 4,
 "nbformat_minor": 5
}
