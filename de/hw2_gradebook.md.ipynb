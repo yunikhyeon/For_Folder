{
 "cells": [
  {
   "cell_type": "code",
   "execution_count": 1,
   "id": "fb69217c-b8e1-401a-bfc1-b101abccb79e",
   "metadata": {
    "tags": []
   },
   "outputs": [],
   "source": [
    "subjects = [\"physics\", \"calculus\", \"poetry\", \"history\"]\n"
   ]
  },
  {
   "cell_type": "code",
   "execution_count": 2,
   "id": "64dc58ca-48c4-4e4d-a236-fb55afe67df0",
   "metadata": {
    "tags": []
   },
   "outputs": [],
   "source": [
    "grades = [98, 97, 85, 88]"
   ]
  },
  {
   "cell_type": "code",
   "execution_count": 3,
   "id": "e07d86b0-780d-4e1d-b56c-7db3bc4eb164",
   "metadata": {
    "tags": []
   },
   "outputs": [],
   "source": [
    "gradebook=[[subjects[0],grades[0]], [subjects[1],grades[1]],\n",
    "            [subjects[2],grades[2]], [subjects[3],grades[3]]]"
   ]
  },
  {
   "cell_type": "code",
   "execution_count": 4,
   "id": "9ba29b64-c2ee-415f-9931-3a5bfc63e9e3",
   "metadata": {
    "tags": []
   },
   "outputs": [
    {
     "name": "stdout",
     "output_type": "stream",
     "text": [
      "[['physics', 98], ['calculus', 97], ['poetry', 85], ['history', 88]]\n"
     ]
    }
   ],
   "source": [
    "print(gradebook)"
   ]
  },
  {
   "cell_type": "code",
   "execution_count": 5,
   "id": "caa9f0d2-269f-430b-8f9b-5f379fb0e94c",
   "metadata": {
    "tags": []
   },
   "outputs": [],
   "source": [
    "gradebook.append([\"computer science\", 100])"
   ]
  },
  {
   "cell_type": "code",
   "execution_count": 6,
   "id": "338da92a-931a-4c78-a4fd-29ad677eb43e",
   "metadata": {
    "tags": []
   },
   "outputs": [],
   "source": [
    "gradebook.append([\"visual arts\", 93])"
   ]
  },
  {
   "cell_type": "code",
   "execution_count": 7,
   "id": "4d52d2ee-517b-4935-ab64-c2cd258874ae",
   "metadata": {
    "tags": []
   },
   "outputs": [],
   "source": [
    "for i in gradebook:\n",
    "    if i[0] == \"visual arts\":\n",
    "        i[1] += 5\n"
   ]
  },
  {
   "cell_type": "code",
   "execution_count": 10,
   "id": "fb4eea8f-f789-4fde-b980-5fe433c3bbfb",
   "metadata": {
    "tags": []
   },
   "outputs": [],
   "source": [
    "for y in gradebook:\n",
    "    if y[0] == \"poetry\":\n",
    "        y.remove(y[1]) \n",
    "        y.append(\"Pass\")\n"
   ]
  },
  {
   "cell_type": "code",
   "execution_count": 11,
   "id": "8e06a15e-f4c2-4aad-b18b-2538e9caa075",
   "metadata": {
    "tags": []
   },
   "outputs": [
    {
     "name": "stdout",
     "output_type": "stream",
     "text": [
      "[['physics', 98], ['calculus', 97], ['poetry', 'Pass'], ['history', 88], ['computer science', 100], ['visual arts', 98]]\n"
     ]
    }
   ],
   "source": [
    "#print(gradebook)"
   ]
  },
  {
   "cell_type": "code",
   "execution_count": 12,
   "id": "afa89c73-76fa-42f8-8d83-2060f1af5875",
   "metadata": {
    "tags": []
   },
   "outputs": [],
   "source": [
    "last_semester_gradebook = [[\"politics\", 80], [\"latin\", 96], [\"dance\", 97], [\"architecture\", 65]]"
   ]
  },
  {
   "cell_type": "code",
   "execution_count": 13,
   "id": "89f1fded-a6b6-4e10-a671-68fe9fd9a413",
   "metadata": {
    "tags": []
   },
   "outputs": [],
   "source": [
    "full_grade=last_semester_gradebook + gradebook"
   ]
  },
  {
   "cell_type": "code",
   "execution_count": 14,
   "id": "e964f8f5-7e34-48cf-b972-ddee75e1481d",
   "metadata": {
    "tags": []
   },
   "outputs": [
    {
     "name": "stdout",
     "output_type": "stream",
     "text": [
      "[['politics', 80], ['latin', 96], ['dance', 97], ['architecture', 65], ['physics', 98], ['calculus', 97], ['poetry', 'Pass'], ['history', 88], ['computer science', 100], ['visual arts', 98]]\n"
     ]
    }
   ],
   "source": [
    "print(full_grade)"
   ]
  },
  {
   "cell_type": "code",
   "execution_count": null,
   "id": "213d1f95-418b-41fd-ba47-e99082b6d530",
   "metadata": {},
   "outputs": [],
   "source": []
  }
 ],
 "metadata": {
  "kernelspec": {
   "display_name": "Python 3 (ipykernel)",
   "language": "python",
   "name": "python3"
  },
  "language_info": {
   "codemirror_mode": {
    "name": "ipython",
    "version": 3
   },
   "file_extension": ".py",
   "mimetype": "text/x-python",
   "name": "python",
   "nbconvert_exporter": "python",
   "pygments_lexer": "ipython3",
   "version": "3.11.4"
  }
 },
 "nbformat": 4,
 "nbformat_minor": 5
}
