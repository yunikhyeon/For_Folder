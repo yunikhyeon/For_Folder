{
 "cells": [
  {
   "cell_type": "code",
   "execution_count": 1,
   "id": "2ce7d6d3-4624-4553-8ca5-73831e9935a5",
   "metadata": {
    "tags": []
   },
   "outputs": [],
   "source": [
    "lovely_loveseat_description=\"Lovely Loveseat. Tufted polyester blend on wood. 32 inches high x 40 inches wide x 30 inches deep. Red or white.\""
   ]
  },
  {
   "cell_type": "code",
   "execution_count": 2,
   "id": "6f937298-7dc7-4446-a710-57e36fd164b5",
   "metadata": {
    "tags": []
   },
   "outputs": [],
   "source": [
    "lovely_loveseat_price=254.00"
   ]
  },
  {
   "cell_type": "code",
   "execution_count": 3,
   "id": "2c6a70a0-d874-4a8f-9eb1-5cc756593e5d",
   "metadata": {
    "tags": []
   },
   "outputs": [],
   "source": [
    "stylish_settee_description=\"Stylish Settee. Faux leather on birch. 29.50 inches high x 54.75 inches wide x 28 inches deep. Black.\""
   ]
  },
  {
   "cell_type": "code",
   "execution_count": 4,
   "id": "42c16c63-0b72-4e87-a220-e26885dd82f0",
   "metadata": {
    "tags": []
   },
   "outputs": [],
   "source": [
    "stylish_settee_price=180.50"
   ]
  },
  {
   "cell_type": "code",
   "execution_count": 5,
   "id": "836f25c6-d6f1-461a-a6a5-548be9234323",
   "metadata": {
    "tags": []
   },
   "outputs": [],
   "source": [
    "luxurious_lamp_description=\"Luxurious Lamp. Glass and iron. 36 inches tall. Brown with cream shade.\""
   ]
  },
  {
   "cell_type": "code",
   "execution_count": 6,
   "id": "2d4cdb48-3e2b-401d-85fd-07f348267925",
   "metadata": {
    "tags": []
   },
   "outputs": [],
   "source": [
    "luxurious_lamp_price=52.15"
   ]
  },
  {
   "cell_type": "code",
   "execution_count": 8,
   "id": "92e09ee3-9a61-4a9e-9a9f-bb39d9d903de",
   "metadata": {
    "tags": []
   },
   "outputs": [],
   "source": [
    "sales_tax=0.088"
   ]
  },
  {
   "cell_type": "code",
   "execution_count": 9,
   "id": "0b6b66f3-fb10-494a-920a-84b29808f18e",
   "metadata": {
    "tags": []
   },
   "outputs": [],
   "source": [
    "customer_one_total=0"
   ]
  },
  {
   "cell_type": "code",
   "execution_count": 10,
   "id": "60a90328-eb77-451a-9a08-4f348ad78cf0",
   "metadata": {
    "tags": []
   },
   "outputs": [],
   "source": [
    "customer_one_itemization=\"\""
   ]
  },
  {
   "cell_type": "code",
   "execution_count": 11,
   "id": "1fc191ad-c12a-4a81-9137-85b8c588945b",
   "metadata": {
    "tags": []
   },
   "outputs": [],
   "source": [
    "customer_one_total += lovely_loveseat_price"
   ]
  },
  {
   "cell_type": "code",
   "execution_count": 12,
   "id": "564b4077-de1f-40c5-8251-eaef0deef341",
   "metadata": {
    "tags": []
   },
   "outputs": [],
   "source": [
    "customer_one_itemization += lovely_loveseat_description + \"\\n\""
   ]
  },
  {
   "cell_type": "code",
   "execution_count": 13,
   "id": "cee857bb-b9aa-4c66-994f-3fd24e640b4f",
   "metadata": {
    "tags": []
   },
   "outputs": [],
   "source": [
    "customer_one_total += luxurious_lamp_price"
   ]
  },
  {
   "cell_type": "code",
   "execution_count": 14,
   "id": "e5a61a6d-bb5a-4952-a165-26a49535a357",
   "metadata": {
    "tags": []
   },
   "outputs": [],
   "source": [
    "customer_one_itemization += luxurious_lamp_description"
   ]
  },
  {
   "cell_type": "code",
   "execution_count": 15,
   "id": "9bdc4d3b-be7d-441f-984a-a036e6ccbd62",
   "metadata": {
    "tags": []
   },
   "outputs": [],
   "source": [
    "customer_one_tax = customer_one_total * sales_tax"
   ]
  },
  {
   "cell_type": "code",
   "execution_count": 16,
   "id": "4a187a0a-645a-4c2e-bf94-cd797bca0413",
   "metadata": {
    "tags": []
   },
   "outputs": [],
   "source": [
    "customer_one_total += customer_one_tax"
   ]
  },
  {
   "cell_type": "code",
   "execution_count": 17,
   "id": "1a18c9e3-2171-4e42-9ceb-115903dacb56",
   "metadata": {
    "tags": []
   },
   "outputs": [
    {
     "name": "stdout",
     "output_type": "stream",
     "text": [
      "Customer One Items:\n",
      "Lovely Loveseat. Tufted polyester blend on wood. 32 inches high x 40 inches wide x 30 inches deep. Red or white.\n",
      "Luxurious Lamp. Glass and iron. 36 inches tall. Brown with cream shade.\n",
      "Customer One Total:\n",
      "333.09119999999996\n"
     ]
    }
   ],
   "source": [
    "print(\"Customer One Items:\")\n",
    "print(customer_one_itemization)\n",
    "print(\"Customer One Total:\")\n",
    "print(customer_one_total)"
   ]
  },
  {
   "cell_type": "code",
   "execution_count": null,
   "id": "f4412cd7-8312-4b81-8b0e-49243cc92216",
   "metadata": {},
   "outputs": [],
   "source": []
  }
 ],
 "metadata": {
  "kernelspec": {
   "display_name": "Python 3 (ipykernel)",
   "language": "python",
   "name": "python3"
  },
  "language_info": {
   "codemirror_mode": {
    "name": "ipython",
    "version": 3
   },
   "file_extension": ".py",
   "mimetype": "text/x-python",
   "name": "python",
   "nbconvert_exporter": "python",
   "pygments_lexer": "ipython3",
   "version": "3.11.4"
  }
 },
 "nbformat": 4,
 "nbformat_minor": 5
}
