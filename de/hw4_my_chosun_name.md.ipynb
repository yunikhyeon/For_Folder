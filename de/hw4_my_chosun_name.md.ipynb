{
 "cells": [
  {
   "cell_type": "code",
   "execution_count": 28,
   "id": "a9d451dc-8015-4120-b471-0a9be181f879",
   "metadata": {
    "tags": []
   },
   "outputs": [],
   "source": [
    "def get_my_chosun_name(family_name, month, day):\n",
    "    one_name=['쌍', '쇠', '복', '돌', '팽', '육', '쌍', '개', '칠', '갑', '삼', '방']\n",
    "    two_name=['봉', '구', '욕', '포', '똥', '삼', '식', '석', '놈', '님', '년', '돌', '단', '득', '방', '질', '장', '걸', '래', '룡', '동', '순', '자', '박', '창', '언', '것', '포', '만', '단', '국']\n",
    "    \n",
    "    first_name=one_name[month-1]\n",
    "    second_name=two_name[day-1]\n",
    "    full_name=family_name+first_name+second_name\n",
    "    \n",
    "    return full_name\n",
    "  \n",
    "    \n",
    "    "
   ]
  },
  {
   "cell_type": "code",
   "execution_count": 34,
   "id": "1e0e67e2-5a9a-43bc-a9fc-81ebf994162a",
   "metadata": {
    "tags": []
   },
   "outputs": [
    {
     "name": "stdout",
     "output_type": "stream",
     "text": [
      "당신의 조선시대 이름은 안칠걸입니다.\n"
     ]
    }
   ],
   "source": [
    "\n",
    "print('당신의 조선시대 이름은 '+ get_my_chosun_name('안', 9, 18) +'입니다.')"
   ]
  },
  {
   "cell_type": "code",
   "execution_count": null,
   "id": "8288b4c2-0699-4361-ad9e-569f49c7afd0",
   "metadata": {},
   "outputs": [],
   "source": []
  }
 ],
 "metadata": {
  "kernelspec": {
   "display_name": "Python 3 (ipykernel)",
   "language": "python",
   "name": "python3"
  },
  "language_info": {
   "codemirror_mode": {
    "name": "ipython",
    "version": 3
   },
   "file_extension": ".py",
   "mimetype": "text/x-python",
   "name": "python",
   "nbconvert_exporter": "python",
   "pygments_lexer": "ipython3",
   "version": "3.11.4"
  }
 },
 "nbformat": 4,
 "nbformat_minor": 5
}
